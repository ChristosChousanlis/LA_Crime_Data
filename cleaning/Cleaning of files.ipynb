{
 "cells": [
  {
   "cell_type": "code",
   "execution_count": 1,
   "id": "b1496ea3-c96a-4152-a86b-f1163f4e7bac",
   "metadata": {},
   "outputs": [],
   "source": [
    "import pandas as pd \n",
    "import numpy as np \n",
    "import matplotlib.pyplot as plt\n",
    "import seaborn as sns"
   ]
  },
  {
   "cell_type": "code",
   "execution_count": 2,
   "id": "0373a3e3-c4d1-4d3f-9510-51db7027ecc7",
   "metadata": {},
   "outputs": [],
   "source": [
    "#reading the 2 files to clean and merge\n",
    "\n",
    "df = pd.read_csv('../data/Crime_Data_from_2010_to_2019.csv') \n",
    "df2 = pd.read_csv('../data/Crime_Data_from_2020_to_Present.csv')"
   ]
  },
  {
   "cell_type": "code",
   "execution_count": 3,
   "id": "1979d19a-c410-4298-a6ce-78aaafa85bda",
   "metadata": {},
   "outputs": [],
   "source": [
    "#now merging the two dataframes \n",
    "\n",
    "df1 = pd.concat([df,df2] , ignore_index=True)"
   ]
  },
  {
   "cell_type": "code",
   "execution_count": 4,
   "id": "451a90df-26cf-4b78-9053-0eeaf0ae7f17",
   "metadata": {},
   "outputs": [
    {
     "data": {
      "text/plain": [
       "Index(['DR_NO', 'Date Rptd', 'DATE OCC', 'TIME OCC', 'AREA ', 'AREA NAME',\n",
       "       'Rpt Dist No', 'Part 1-2', 'Crm Cd', 'Crm Cd Desc', 'Mocodes',\n",
       "       'Vict Age', 'Vict Sex', 'Vict Descent', 'Premis Cd', 'Premis Desc',\n",
       "       'Weapon Used Cd', 'Weapon Desc', 'Status', 'Status Desc', 'Crm Cd 1',\n",
       "       'Crm Cd 2', 'Crm Cd 3', 'Crm Cd 4', 'LOCATION', 'Cross Street', 'LAT',\n",
       "       'LON', 'AREA'],\n",
       "      dtype='object')"
      ]
     },
     "execution_count": 4,
     "metadata": {},
     "output_type": "execute_result"
    }
   ],
   "source": [
    "#starting the processing of the first file \n",
    "\n",
    "df1.columns"
   ]
  },
  {
   "cell_type": "code",
   "execution_count": 5,
   "id": "7c9f0284-a072-486e-a0df-e56b457ed406",
   "metadata": {},
   "outputs": [],
   "source": [
    "# Keeping only the columns that I need\n",
    "# and renaming them\n",
    "\n",
    "col_list = ['DATE OCC','AREA NAME','Crm Cd',\n",
    "            'Crm Cd Desc','Vict Age', 'Vict Sex', \n",
    "            'Vict Descent','Weapon Used Cd','Weapon Desc','Premis Cd','Premis Desc','LAT', 'LON']      \n",
    "\n",
    "df1 = df1[col_list]\n",
    "\n",
    "df1.columns = ['Date','Area','Crime Code','Crime','Vict Age', 'Vict Sex',   \n",
    "            'Vict Descent','Weapon Code','Weapon','Premises Code','Premises','LAT', 'LON']       "
   ]
  },
  {
   "cell_type": "code",
   "execution_count": 6,
   "id": "f229729c-0638-45ad-b81b-a4550af4a25a",
   "metadata": {},
   "outputs": [
    {
     "data": {
      "text/html": [
       "<div>\n",
       "<style scoped>\n",
       "    .dataframe tbody tr th:only-of-type {\n",
       "        vertical-align: middle;\n",
       "    }\n",
       "\n",
       "    .dataframe tbody tr th {\n",
       "        vertical-align: top;\n",
       "    }\n",
       "\n",
       "    .dataframe thead th {\n",
       "        text-align: right;\n",
       "    }\n",
       "</style>\n",
       "<table border=\"1\" class=\"dataframe\">\n",
       "  <thead>\n",
       "    <tr style=\"text-align: right;\">\n",
       "      <th></th>\n",
       "      <th>Date</th>\n",
       "      <th>Area</th>\n",
       "      <th>Crime Code</th>\n",
       "      <th>Crime</th>\n",
       "      <th>Vict Age</th>\n",
       "      <th>Vict Sex</th>\n",
       "      <th>Vict Descent</th>\n",
       "      <th>Weapon Code</th>\n",
       "      <th>Weapon</th>\n",
       "      <th>Premises Code</th>\n",
       "      <th>Premises</th>\n",
       "      <th>LAT</th>\n",
       "      <th>LON</th>\n",
       "    </tr>\n",
       "  </thead>\n",
       "  <tbody>\n",
       "    <tr>\n",
       "      <th>0</th>\n",
       "      <td>02/20/2010 12:00:00 AM</td>\n",
       "      <td>Newton</td>\n",
       "      <td>900</td>\n",
       "      <td>VIOLATION OF COURT ORDER</td>\n",
       "      <td>48</td>\n",
       "      <td>M</td>\n",
       "      <td>H</td>\n",
       "      <td>NaN</td>\n",
       "      <td>NaN</td>\n",
       "      <td>501.0</td>\n",
       "      <td>SINGLE FAMILY DWELLING</td>\n",
       "      <td>33.9825</td>\n",
       "      <td>-118.2695</td>\n",
       "    </tr>\n",
       "    <tr>\n",
       "      <th>1</th>\n",
       "      <td>09/12/2010 12:00:00 AM</td>\n",
       "      <td>Pacific</td>\n",
       "      <td>740</td>\n",
       "      <td>VANDALISM - FELONY ($400 &amp; OVER, ALL CHURCH VA...</td>\n",
       "      <td>0</td>\n",
       "      <td>M</td>\n",
       "      <td>W</td>\n",
       "      <td>NaN</td>\n",
       "      <td>NaN</td>\n",
       "      <td>101.0</td>\n",
       "      <td>STREET</td>\n",
       "      <td>33.9599</td>\n",
       "      <td>-118.3962</td>\n",
       "    </tr>\n",
       "    <tr>\n",
       "      <th>2</th>\n",
       "      <td>08/09/2010 12:00:00 AM</td>\n",
       "      <td>Newton</td>\n",
       "      <td>946</td>\n",
       "      <td>OTHER MISCELLANEOUS CRIME</td>\n",
       "      <td>0</td>\n",
       "      <td>M</td>\n",
       "      <td>H</td>\n",
       "      <td>NaN</td>\n",
       "      <td>NaN</td>\n",
       "      <td>103.0</td>\n",
       "      <td>ALLEY</td>\n",
       "      <td>34.0224</td>\n",
       "      <td>-118.2524</td>\n",
       "    </tr>\n",
       "    <tr>\n",
       "      <th>3</th>\n",
       "      <td>01/05/2010 12:00:00 AM</td>\n",
       "      <td>Hollywood</td>\n",
       "      <td>900</td>\n",
       "      <td>VIOLATION OF COURT ORDER</td>\n",
       "      <td>47</td>\n",
       "      <td>F</td>\n",
       "      <td>W</td>\n",
       "      <td>102.0</td>\n",
       "      <td>HAND GUN</td>\n",
       "      <td>101.0</td>\n",
       "      <td>STREET</td>\n",
       "      <td>34.1016</td>\n",
       "      <td>-118.3295</td>\n",
       "    </tr>\n",
       "    <tr>\n",
       "      <th>4</th>\n",
       "      <td>01/02/2010 12:00:00 AM</td>\n",
       "      <td>Central</td>\n",
       "      <td>122</td>\n",
       "      <td>RAPE, ATTEMPTED</td>\n",
       "      <td>47</td>\n",
       "      <td>F</td>\n",
       "      <td>H</td>\n",
       "      <td>400.0</td>\n",
       "      <td>STRONG-ARM (HANDS, FIST, FEET OR BODILY FORCE)</td>\n",
       "      <td>103.0</td>\n",
       "      <td>ALLEY</td>\n",
       "      <td>34.0387</td>\n",
       "      <td>-118.2488</td>\n",
       "    </tr>\n",
       "  </tbody>\n",
       "</table>\n",
       "</div>"
      ],
      "text/plain": [
       "                     Date       Area  Crime Code  \\\n",
       "0  02/20/2010 12:00:00 AM     Newton         900   \n",
       "1  09/12/2010 12:00:00 AM    Pacific         740   \n",
       "2  08/09/2010 12:00:00 AM     Newton         946   \n",
       "3  01/05/2010 12:00:00 AM  Hollywood         900   \n",
       "4  01/02/2010 12:00:00 AM    Central         122   \n",
       "\n",
       "                                               Crime  Vict Age Vict Sex  \\\n",
       "0                           VIOLATION OF COURT ORDER        48        M   \n",
       "1  VANDALISM - FELONY ($400 & OVER, ALL CHURCH VA...         0        M   \n",
       "2                          OTHER MISCELLANEOUS CRIME         0        M   \n",
       "3                           VIOLATION OF COURT ORDER        47        F   \n",
       "4                                    RAPE, ATTEMPTED        47        F   \n",
       "\n",
       "  Vict Descent  Weapon Code                                          Weapon  \\\n",
       "0            H          NaN                                             NaN   \n",
       "1            W          NaN                                             NaN   \n",
       "2            H          NaN                                             NaN   \n",
       "3            W        102.0                                        HAND GUN   \n",
       "4            H        400.0  STRONG-ARM (HANDS, FIST, FEET OR BODILY FORCE)   \n",
       "\n",
       "   Premises Code                Premises      LAT       LON  \n",
       "0          501.0  SINGLE FAMILY DWELLING  33.9825 -118.2695  \n",
       "1          101.0                  STREET  33.9599 -118.3962  \n",
       "2          103.0                   ALLEY  34.0224 -118.2524  \n",
       "3          101.0                  STREET  34.1016 -118.3295  \n",
       "4          103.0                   ALLEY  34.0387 -118.2488  "
      ]
     },
     "execution_count": 6,
     "metadata": {},
     "output_type": "execute_result"
    }
   ],
   "source": [
    "df1.head()"
   ]
  },
  {
   "cell_type": "code",
   "execution_count": 7,
   "id": "a134005f-b075-4812-82c8-db53e75972d8",
   "metadata": {},
   "outputs": [],
   "source": [
    "df1['Date'] = pd.to_datetime(df1['Date'])   #converting Date to datetime"
   ]
  },
  {
   "cell_type": "code",
   "execution_count": 8,
   "id": "ae8d63d4-6048-498b-90a0-10675ef48318",
   "metadata": {},
   "outputs": [],
   "source": [
    "df1['Month']=df1['Date'].dt.month\n",
    "df1['Year']=df1['Date'].dt.year\n",
    "                                                    #creating new columns : Year, Month\n",
    "year = df1['Year']\n",
    "month = df1['Month']\n",
    "df1 = df1.drop(columns=['Date','Year','Month'])\n",
    "df1.insert(loc=0, column='Month', value=month)\n",
    "df1.insert(loc=0, column='Year', value=year)"
   ]
  },
  {
   "cell_type": "code",
   "execution_count": 9,
   "id": "95484504-5b71-4daa-a5bf-fde02db66735",
   "metadata": {},
   "outputs": [],
   "source": [
    "df1 = df1.sort_values(by=['Year','Month'])"
   ]
  },
  {
   "cell_type": "code",
   "execution_count": 10,
   "id": "46de3291-a6db-42d4-bdc2-ea787ec4764e",
   "metadata": {},
   "outputs": [
    {
     "data": {
      "text/html": [
       "<div>\n",
       "<style scoped>\n",
       "    .dataframe tbody tr th:only-of-type {\n",
       "        vertical-align: middle;\n",
       "    }\n",
       "\n",
       "    .dataframe tbody tr th {\n",
       "        vertical-align: top;\n",
       "    }\n",
       "\n",
       "    .dataframe thead th {\n",
       "        text-align: right;\n",
       "    }\n",
       "</style>\n",
       "<table border=\"1\" class=\"dataframe\">\n",
       "  <thead>\n",
       "    <tr style=\"text-align: right;\">\n",
       "      <th></th>\n",
       "      <th>Year</th>\n",
       "      <th>Month</th>\n",
       "      <th>Area</th>\n",
       "      <th>Crime Code</th>\n",
       "      <th>Crime</th>\n",
       "      <th>Vict Age</th>\n",
       "      <th>Vict Sex</th>\n",
       "      <th>Vict Descent</th>\n",
       "      <th>Weapon Code</th>\n",
       "      <th>Weapon</th>\n",
       "      <th>Premises Code</th>\n",
       "      <th>Premises</th>\n",
       "      <th>LAT</th>\n",
       "      <th>LON</th>\n",
       "    </tr>\n",
       "  </thead>\n",
       "  <tbody>\n",
       "    <tr>\n",
       "      <th>3</th>\n",
       "      <td>2010</td>\n",
       "      <td>1</td>\n",
       "      <td>Hollywood</td>\n",
       "      <td>900</td>\n",
       "      <td>VIOLATION OF COURT ORDER</td>\n",
       "      <td>47</td>\n",
       "      <td>F</td>\n",
       "      <td>W</td>\n",
       "      <td>102.0</td>\n",
       "      <td>HAND GUN</td>\n",
       "      <td>101.0</td>\n",
       "      <td>STREET</td>\n",
       "      <td>34.1016</td>\n",
       "      <td>-118.3295</td>\n",
       "    </tr>\n",
       "    <tr>\n",
       "      <th>4</th>\n",
       "      <td>2010</td>\n",
       "      <td>1</td>\n",
       "      <td>Central</td>\n",
       "      <td>122</td>\n",
       "      <td>RAPE, ATTEMPTED</td>\n",
       "      <td>47</td>\n",
       "      <td>F</td>\n",
       "      <td>H</td>\n",
       "      <td>400.0</td>\n",
       "      <td>STRONG-ARM (HANDS, FIST, FEET OR BODILY FORCE)</td>\n",
       "      <td>103.0</td>\n",
       "      <td>ALLEY</td>\n",
       "      <td>34.0387</td>\n",
       "      <td>-118.2488</td>\n",
       "    </tr>\n",
       "    <tr>\n",
       "      <th>5</th>\n",
       "      <td>2010</td>\n",
       "      <td>1</td>\n",
       "      <td>Central</td>\n",
       "      <td>442</td>\n",
       "      <td>SHOPLIFTING - PETTY THEFT ($950 &amp; UNDER)</td>\n",
       "      <td>23</td>\n",
       "      <td>M</td>\n",
       "      <td>B</td>\n",
       "      <td>NaN</td>\n",
       "      <td>NaN</td>\n",
       "      <td>404.0</td>\n",
       "      <td>DEPARTMENT STORE</td>\n",
       "      <td>34.0480</td>\n",
       "      <td>-118.2577</td>\n",
       "    </tr>\n",
       "    <tr>\n",
       "      <th>6</th>\n",
       "      <td>2010</td>\n",
       "      <td>1</td>\n",
       "      <td>Central</td>\n",
       "      <td>330</td>\n",
       "      <td>BURGLARY FROM VEHICLE</td>\n",
       "      <td>46</td>\n",
       "      <td>M</td>\n",
       "      <td>H</td>\n",
       "      <td>NaN</td>\n",
       "      <td>NaN</td>\n",
       "      <td>101.0</td>\n",
       "      <td>STREET</td>\n",
       "      <td>34.0389</td>\n",
       "      <td>-118.2643</td>\n",
       "    </tr>\n",
       "    <tr>\n",
       "      <th>7</th>\n",
       "      <td>2010</td>\n",
       "      <td>1</td>\n",
       "      <td>Central</td>\n",
       "      <td>230</td>\n",
       "      <td>ASSAULT WITH DEADLY WEAPON, AGGRAVATED ASSAULT</td>\n",
       "      <td>51</td>\n",
       "      <td>M</td>\n",
       "      <td>B</td>\n",
       "      <td>500.0</td>\n",
       "      <td>UNKNOWN WEAPON/OTHER WEAPON</td>\n",
       "      <td>710.0</td>\n",
       "      <td>OTHER PREMISE</td>\n",
       "      <td>34.0435</td>\n",
       "      <td>-118.2427</td>\n",
       "    </tr>\n",
       "  </tbody>\n",
       "</table>\n",
       "</div>"
      ],
      "text/plain": [
       "   Year  Month       Area  Crime Code  \\\n",
       "3  2010      1  Hollywood         900   \n",
       "4  2010      1    Central         122   \n",
       "5  2010      1    Central         442   \n",
       "6  2010      1    Central         330   \n",
       "7  2010      1    Central         230   \n",
       "\n",
       "                                            Crime  Vict Age Vict Sex  \\\n",
       "3                        VIOLATION OF COURT ORDER        47        F   \n",
       "4                                 RAPE, ATTEMPTED        47        F   \n",
       "5        SHOPLIFTING - PETTY THEFT ($950 & UNDER)        23        M   \n",
       "6                           BURGLARY FROM VEHICLE        46        M   \n",
       "7  ASSAULT WITH DEADLY WEAPON, AGGRAVATED ASSAULT        51        M   \n",
       "\n",
       "  Vict Descent  Weapon Code                                          Weapon  \\\n",
       "3            W        102.0                                        HAND GUN   \n",
       "4            H        400.0  STRONG-ARM (HANDS, FIST, FEET OR BODILY FORCE)   \n",
       "5            B          NaN                                             NaN   \n",
       "6            H          NaN                                             NaN   \n",
       "7            B        500.0                     UNKNOWN WEAPON/OTHER WEAPON   \n",
       "\n",
       "   Premises Code          Premises      LAT       LON  \n",
       "3          101.0            STREET  34.1016 -118.3295  \n",
       "4          103.0             ALLEY  34.0387 -118.2488  \n",
       "5          404.0  DEPARTMENT STORE  34.0480 -118.2577  \n",
       "6          101.0            STREET  34.0389 -118.2643  \n",
       "7          710.0     OTHER PREMISE  34.0435 -118.2427  "
      ]
     },
     "execution_count": 10,
     "metadata": {},
     "output_type": "execute_result"
    }
   ],
   "source": [
    "df1.head()"
   ]
  },
  {
   "cell_type": "code",
   "execution_count": 11,
   "id": "5fc70958-5f3c-4dfd-90c5-f813b32fe6d1",
   "metadata": {},
   "outputs": [
    {
     "data": {
      "text/plain": [
       "(array(['F', 'M', nan, 'X', 'H', '-', 'N'], dtype=object),\n",
       " array(['W', 'H', 'B', 'A', 'O', nan, 'K', 'X', 'I', 'C', 'P', 'F', 'S',\n",
       "        'J', 'G', 'U', 'V', 'Z', 'D', 'L', '-'], dtype=object))"
      ]
     },
     "execution_count": 11,
     "metadata": {},
     "output_type": "execute_result"
    }
   ],
   "source": [
    "df1['Vict Sex'].unique(), df1['Vict Descent'].unique() #unique values of the columns to find all types"
   ]
  },
  {
   "cell_type": "code",
   "execution_count": 12,
   "id": "d38046fe-18a2-4241-868b-4c349b9ecf68",
   "metadata": {},
   "outputs": [
    {
     "data": {
      "text/plain": [
       "(H    827211\n",
       " W    580254\n",
       " B    382586\n",
       " O    229313\n",
       " X    108046\n",
       " A     58155\n",
       " K     10689\n",
       " F      3565\n",
       " C      1870\n",
       " I      1154\n",
       " J       748\n",
       " V       447\n",
       " P       409\n",
       " U       237\n",
       " Z       223\n",
       " G       110\n",
       " S        45\n",
       " D        39\n",
       " L        29\n",
       " -         3\n",
       " Name: Vict Descent, dtype: int64,\n",
       " M    1114497\n",
       " F    1008557\n",
       " X      82006\n",
       " H        107\n",
       " N         17\n",
       " -          1\n",
       " Name: Vict Sex, dtype: int64)"
      ]
     },
     "execution_count": 12,
     "metadata": {},
     "output_type": "execute_result"
    }
   ],
   "source": [
    "#finding the prevalent Descents and Sexes\n",
    "\n",
    "df1['Vict Descent'].value_counts() , df1['Vict Sex'].value_counts() "
   ]
  },
  {
   "cell_type": "code",
   "execution_count": 13,
   "id": "23bc9e2a-5e1d-4e5f-be16-03200c525344",
   "metadata": {},
   "outputs": [],
   "source": [
    "#changing types of Descent and Sex to a more suitable way of reading them\n",
    "#also grouping as other the non-prevalent ones\n",
    "\n",
    "df1['Vict Sex'].mask(((df1['Vict Sex'] != 'M') & (df1['Vict Sex'] != 'F' )), 'Other', inplace=True)\n",
    "\n",
    "df1['Vict Sex'] = df1['Vict Sex'].replace(['M', 'F'],\n",
    "                                        ['Male','Female'])\n",
    "\n",
    "df1['Vict Descent'].mask(((df1['Vict Descent'] != 'W') & (df1['Vict Descent'] != 'B') & (df1['Vict Descent'] != 'H')\n",
    "                            & (df1['Vict Descent'] != 'A') & (df1['Vict Descent'] != 'O') & (df1['Vict Descent'] != 'X')),\n",
    "                        'Other', inplace=True)\n",
    "\n",
    "df1['Vict Descent'] = df1['Vict Descent'].replace(['H','W','B','O','X','A'],\n",
    "                                        ['Hispanic','White','Black','Unknown','Unknown','Asian'])"
   ]
  },
  {
   "cell_type": "code",
   "execution_count": 14,
   "id": "35648e3e-27bd-47be-b8a2-02b540963e9b",
   "metadata": {},
   "outputs": [
    {
     "data": {
      "text/html": [
       "<div>\n",
       "<style scoped>\n",
       "    .dataframe tbody tr th:only-of-type {\n",
       "        vertical-align: middle;\n",
       "    }\n",
       "\n",
       "    .dataframe tbody tr th {\n",
       "        vertical-align: top;\n",
       "    }\n",
       "\n",
       "    .dataframe thead th {\n",
       "        text-align: right;\n",
       "    }\n",
       "</style>\n",
       "<table border=\"1\" class=\"dataframe\">\n",
       "  <thead>\n",
       "    <tr style=\"text-align: right;\">\n",
       "      <th></th>\n",
       "      <th>Year</th>\n",
       "      <th>Month</th>\n",
       "      <th>Area</th>\n",
       "      <th>Crime Code</th>\n",
       "      <th>Crime</th>\n",
       "      <th>Vict Age</th>\n",
       "      <th>Vict Sex</th>\n",
       "      <th>Vict Descent</th>\n",
       "      <th>Weapon Code</th>\n",
       "      <th>Weapon</th>\n",
       "      <th>Premises Code</th>\n",
       "      <th>Premises</th>\n",
       "      <th>LAT</th>\n",
       "      <th>LON</th>\n",
       "    </tr>\n",
       "  </thead>\n",
       "  <tbody>\n",
       "    <tr>\n",
       "      <th>3</th>\n",
       "      <td>2010</td>\n",
       "      <td>1</td>\n",
       "      <td>Hollywood</td>\n",
       "      <td>900</td>\n",
       "      <td>VIOLATION OF COURT ORDER</td>\n",
       "      <td>47</td>\n",
       "      <td>Female</td>\n",
       "      <td>White</td>\n",
       "      <td>102.0</td>\n",
       "      <td>HAND GUN</td>\n",
       "      <td>101.0</td>\n",
       "      <td>STREET</td>\n",
       "      <td>34.1016</td>\n",
       "      <td>-118.3295</td>\n",
       "    </tr>\n",
       "    <tr>\n",
       "      <th>4</th>\n",
       "      <td>2010</td>\n",
       "      <td>1</td>\n",
       "      <td>Central</td>\n",
       "      <td>122</td>\n",
       "      <td>RAPE, ATTEMPTED</td>\n",
       "      <td>47</td>\n",
       "      <td>Female</td>\n",
       "      <td>Hispanic</td>\n",
       "      <td>400.0</td>\n",
       "      <td>STRONG-ARM (HANDS, FIST, FEET OR BODILY FORCE)</td>\n",
       "      <td>103.0</td>\n",
       "      <td>ALLEY</td>\n",
       "      <td>34.0387</td>\n",
       "      <td>-118.2488</td>\n",
       "    </tr>\n",
       "    <tr>\n",
       "      <th>5</th>\n",
       "      <td>2010</td>\n",
       "      <td>1</td>\n",
       "      <td>Central</td>\n",
       "      <td>442</td>\n",
       "      <td>SHOPLIFTING - PETTY THEFT ($950 &amp; UNDER)</td>\n",
       "      <td>23</td>\n",
       "      <td>Male</td>\n",
       "      <td>Black</td>\n",
       "      <td>NaN</td>\n",
       "      <td>NaN</td>\n",
       "      <td>404.0</td>\n",
       "      <td>DEPARTMENT STORE</td>\n",
       "      <td>34.0480</td>\n",
       "      <td>-118.2577</td>\n",
       "    </tr>\n",
       "    <tr>\n",
       "      <th>6</th>\n",
       "      <td>2010</td>\n",
       "      <td>1</td>\n",
       "      <td>Central</td>\n",
       "      <td>330</td>\n",
       "      <td>BURGLARY FROM VEHICLE</td>\n",
       "      <td>46</td>\n",
       "      <td>Male</td>\n",
       "      <td>Hispanic</td>\n",
       "      <td>NaN</td>\n",
       "      <td>NaN</td>\n",
       "      <td>101.0</td>\n",
       "      <td>STREET</td>\n",
       "      <td>34.0389</td>\n",
       "      <td>-118.2643</td>\n",
       "    </tr>\n",
       "    <tr>\n",
       "      <th>7</th>\n",
       "      <td>2010</td>\n",
       "      <td>1</td>\n",
       "      <td>Central</td>\n",
       "      <td>230</td>\n",
       "      <td>ASSAULT WITH DEADLY WEAPON, AGGRAVATED ASSAULT</td>\n",
       "      <td>51</td>\n",
       "      <td>Male</td>\n",
       "      <td>Black</td>\n",
       "      <td>500.0</td>\n",
       "      <td>UNKNOWN WEAPON/OTHER WEAPON</td>\n",
       "      <td>710.0</td>\n",
       "      <td>OTHER PREMISE</td>\n",
       "      <td>34.0435</td>\n",
       "      <td>-118.2427</td>\n",
       "    </tr>\n",
       "  </tbody>\n",
       "</table>\n",
       "</div>"
      ],
      "text/plain": [
       "   Year  Month       Area  Crime Code  \\\n",
       "3  2010      1  Hollywood         900   \n",
       "4  2010      1    Central         122   \n",
       "5  2010      1    Central         442   \n",
       "6  2010      1    Central         330   \n",
       "7  2010      1    Central         230   \n",
       "\n",
       "                                            Crime  Vict Age Vict Sex  \\\n",
       "3                        VIOLATION OF COURT ORDER        47   Female   \n",
       "4                                 RAPE, ATTEMPTED        47   Female   \n",
       "5        SHOPLIFTING - PETTY THEFT ($950 & UNDER)        23     Male   \n",
       "6                           BURGLARY FROM VEHICLE        46     Male   \n",
       "7  ASSAULT WITH DEADLY WEAPON, AGGRAVATED ASSAULT        51     Male   \n",
       "\n",
       "  Vict Descent  Weapon Code                                          Weapon  \\\n",
       "3        White        102.0                                        HAND GUN   \n",
       "4     Hispanic        400.0  STRONG-ARM (HANDS, FIST, FEET OR BODILY FORCE)   \n",
       "5        Black          NaN                                             NaN   \n",
       "6     Hispanic          NaN                                             NaN   \n",
       "7        Black        500.0                     UNKNOWN WEAPON/OTHER WEAPON   \n",
       "\n",
       "   Premises Code          Premises      LAT       LON  \n",
       "3          101.0            STREET  34.1016 -118.3295  \n",
       "4          103.0             ALLEY  34.0387 -118.2488  \n",
       "5          404.0  DEPARTMENT STORE  34.0480 -118.2577  \n",
       "6          101.0            STREET  34.0389 -118.2643  \n",
       "7          710.0     OTHER PREMISE  34.0435 -118.2427  "
      ]
     },
     "execution_count": 14,
     "metadata": {},
     "output_type": "execute_result"
    }
   ],
   "source": [
    "df1.head()"
   ]
  },
  {
   "cell_type": "code",
   "execution_count": 15,
   "id": "0a069cca-f047-4428-b2f1-dc2abf7c12b5",
   "metadata": {},
   "outputs": [
    {
     "data": {
      "text/plain": [
       "array([ 47,  23,  46,  51,  30,  55,  38,  40,  24,  29,  41,  11,  50,\n",
       "        18,  37,  28,  25,  31,  36,  61,  43,  35,  32,  26,  27,   0,\n",
       "        56,  57,  42,  49,  34,  39,  22,  54,  60,  99,  21,  20,  74,\n",
       "        16,  44,  17,  33,  48,  63,  52,  19,  45,  59,  53,  58,  84,\n",
       "        68,  82,  62,  66,  65,  64,  14,  69,  13,  15,   4,  12,   9,\n",
       "         3,   7,  71,   8,  79,  67,  76,   2,  10,   6,  72,  80,  86,\n",
       "        75,  73,  89,  85,   5,  77,  81,  78,  96,  88,  70,  87,  91,\n",
       "        90,  92,  83,  97,  95,  98,  94,  93,  -1,  -2,  -3,  -4,  -6,\n",
       "        -9,  -8, -11, -10,  -5,  -7, 114, 118, 120], dtype=int64)"
      ]
     },
     "execution_count": 15,
     "metadata": {},
     "output_type": "execute_result"
    }
   ],
   "source": [
    "df1['Vict Age'].unique()"
   ]
  },
  {
   "cell_type": "code",
   "execution_count": 16,
   "id": "be6adac1-70c0-4af4-bbbb-4ebe27278ca7",
   "metadata": {},
   "outputs": [],
   "source": [
    "#misleading age values such as negative ones have to be dropped\n",
    "\n",
    "df1['Analysis'] = np.where(((df1['Vict Age'] > 0) & (df1['Vict Age'] < 100)),'kept', 'dropped')"
   ]
  },
  {
   "cell_type": "code",
   "execution_count": 17,
   "id": "baaae672-3123-4f71-88f7-9dbe70b1ed83",
   "metadata": {},
   "outputs": [
    {
     "data": {
      "image/png": "[encoded data removed]",
      "text/plain": [
       "<Figure size 576x576 with 1 Axes>"
      ]
     },
     "metadata": {},
     "output_type": "display_data"
    }
   ],
   "source": [
    "sns.set(style='ticks')\n",
    "plt.figure(figsize=[8,8])\n",
    "\n",
    "plt.pie(df1['Analysis'].value_counts(), labels = df1['Analysis'].value_counts().index, \n",
    "         autopct='%.0f%%',textprops = {'fontsize':20})\n",
    "plt.title('Kept - Dropped Value Ratio', fontsize = 20)\n",
    "plt.show()"
   ]
  },
  {
   "cell_type": "code",
   "execution_count": 18,
   "id": "046c025c-fa14-4c74-a8c5-0b560d5c1736",
   "metadata": {},
   "outputs": [],
   "source": [
    "#I will keep all the people aged from 1 to 99 years old\n",
    "\n",
    "df1 = df1[((df1['Vict Age'] > 0) & (df1['Vict Age'] < 100))]"
   ]
  },
  {
   "cell_type": "code",
   "execution_count": 19,
   "id": "4897f9ec-0cb5-4aa7-9f54-33d194500dbb",
   "metadata": {},
   "outputs": [],
   "source": [
    "df1.drop('Analysis', axis = 1, inplace = True)"
   ]
  },
  {
   "cell_type": "code",
   "execution_count": 20,
   "id": "6e6de8fd-c163-4664-88b9-feb30601571c",
   "metadata": {},
   "outputs": [],
   "source": [
    "df1 = df1[df1['Vict Sex'] == 'Female']"
   ]
  },
  {
   "cell_type": "code",
   "execution_count": 21,
   "id": "69eb9c76-4455-4bd7-b01f-8544c72d3e01",
   "metadata": {},
   "outputs": [],
   "source": [
    "df1.drop('Vict Sex', axis = 1, inplace = True)"
   ]
  },
  {
   "cell_type": "code",
   "execution_count": 22,
   "id": "550eebf2-fdc7-4597-86f4-582ba6f93943",
   "metadata": {},
   "outputs": [
    {
     "data": {
      "text/plain": [
       "(994309, 13)"
      ]
     },
     "execution_count": 22,
     "metadata": {},
     "output_type": "execute_result"
    }
   ],
   "source": [
    "df1.shape\n"
   ]
  },
  {
   "cell_type": "code",
   "execution_count": 23,
   "id": "c7bc319f-d901-4d6a-a9b7-15e9f4c51cd0",
   "metadata": {},
   "outputs": [],
   "source": [
    "#saving the cleaned file for my analysis\n",
    "\n",
    "df1.to_csv('../data/Crime_Data_from_2010_to_Present(cleaned).csv')"
   ]
  }
 ],
 "metadata": {
  "kernelspec": {
   "display_name": "Python 3",
   "language": "python",
   "name": "python3"
  },
  "language_info": {
   "codemirror_mode": {
    "name": "ipython",
    "version": 3
   },
   "file_extension": ".py",
   "mimetype": "text/x-python",
   "name": "python",
   "nbconvert_exporter": "python",
   "pygments_lexer": "ipython3",
   "version": "3.8.8"
  }
 },
 "nbformat": 4,
 "nbformat_minor": 5
}
